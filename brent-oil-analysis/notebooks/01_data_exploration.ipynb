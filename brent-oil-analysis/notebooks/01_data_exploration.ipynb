{
 "cells": [
  {
   "cell_type": "markdown",
   "metadata": {},
   "source": [
    "# Brent Oil Price Analysis - Data Exploration\n",
    "This notebook explores the Brent crude oil price dataset, performs initial data cleaning, and conducts exploratory data analysis (EDA)."
   ]
  },
  {
   "cell_type": "code",
   "execution_count": null,
   "metadata": {},
   "outputs": [],
   "source": [
    "# Import required libraries\n",
    "import os\n",
    "import sys\n",
    "import numpy as np\n",
    "import pandas as pd\n",
    "import matplotlib.pyplot as plt\n",
    "import seaborn as sns\n",
    "\n",
    "# Add project root to path\n",
    "sys.path.append(os.path.abspath(os.path.join('..', '..')))\n",
    "\n",
    "# Import project modules\n",
    "from src.data.preprocessing import load_data, prepare_time_series\n",
    "from src.visualization.plots import plot_price_series"
   ]
  },
  {
   "cell_type": "markdown",
   "metadata": {},
   "source": [
    "## 1. Load and Inspect Data"
   ]
  },
  {
   "cell_type": "code",
   "execution_count": null,
   "metadata": {},
   "outputs": [],
   "source": [
    "# Load the data\n",
    "data_dir = os.path.join('..', 'data')\n",
    "raw_data_path = os.path.join(data_dir, 'raw', 'brent_prices.csv')\n",
    "\n",
    "# Load and preprocess the data\n",
    "df = load_data(raw_data_path)\n",
    "\n",
    "# Display basic information\n",
    "print(f\"Dataset shape: {df.shape}\")\n",
    "display(df.head())\n",
    "display(df.describe())\n",
    "\n",
    "# Check for missing values\n",
    "print(\"\\nMissing values:\")\n",
    "print(df.isnull().sum())"
   ]
  },
  {
   "cell_type": "markdown",
   "metadata": {},
   "source": [
    "## 2. Time Series Visualization"
   ]
  },
  {
   "cell_type": "code",
   "execution_count": null,
   "metadata": {},
   "outputs": [],
   "source": [
    "# Prepare time series data\n",
    "prices, returns = prepare_time_series(df, resample_freq='M')\n",
    "\n",
    "# Plot the price series\n",
    "plt.figure(figsize=(14, 7))\n",
    "plt.plot(prices.index, prices.values, linewidth=1)\n",
    "plt.title('Brent Crude Oil Price History')\n",
    "plt.xlabel('Year')\n",
    "plt.ylabel('Price (USD/barrel)')\n",
    "plt.grid(True, alpha=0.3)\n",
    "plt.tight_layout()\n",
    "plt.show()"
   ]
  },
  {
   "cell_type": "markdown",
   "metadata": {},
   "source": [
    "## 3. Statistical Analysis"
   ]
  },
  {
   "cell_type": "code",
   "execution_count": null,
   "metadata": {},
   "outputs": [],
   "source": [
    "# Calculate and plot rolling statistics\n",
    "rolling_window = 12  # 12 months\n",
    "rolling_mean = prices.rolling(window=rolling_window).mean()\n",
    "rolling_std = prices.rolling(window=rolling_window).std()\n",
    "\n",
    "plt.figure(figsize=(14, 7))\n",
    "plt.plot(prices.index, prices.values, label='Monthly Price', alpha=0.5)\n",
    "plt.plot(rolling_mean.index, rolling_mean.values, label=f'{rolling_window}-Month Rolling Mean', color='red')\n",
    "plt.fill_between(\n",
    "    rolling_mean.index,\n",
    "    (rolling_mean - 2 * rolling_std).values,\n",
    "    (rolling_mean + 2 * rolling_std).values,\n",
    "    color='gray',\n",
    "    alpha=0.2,\n",
    "    label='Rolling Std Dev'\n",
    ")\n",
    "\n",
    "plt.title('Brent Crude Oil Price with Rolling Statistics')\n",
    "plt.xlabel('Year')\n",
    "plt.ylabel('Price (USD/barrel)')\n",
    "plt.legend()\n",
    "plt.grid(True, alpha=0.3)\n",
    "plt.tight_layout()\n",
    "plt.show()"
   ]
  },
  {
   "cell_type": "markdown",
   "metadata": {},
   "source": [
    "## 4. Load and Explore Event Data"
   ]
  },
  {
   "cell_type": "code",
   "execution_count": null,
   "metadata": {},
   "outputs": [],
   "source": [
    "# Load event data\n",
    "events_path = os.path.join(data_dir, 'events', 'geopolitical_events.csv')\n",
    "\n",
    "if os.path.exists(events_path):\n",
    "    events = pd.read_csv(events_path, parse_dates=['event_date'])\n",
    "    print(f\"Loaded {len(events)} events\")\n",
    "    display(events.head())\n",
    "    \n",
    "    # Plot events on price chart\n",
    "    fig, ax = plt.subplots(figsize=(14, 7))\n",
    "    ax.plot(prices.index, prices.values, linewidth=1, label='Price')\n",
    "    \n",
    "    # Plot different event types with different markers/colors\n",
    "    event_types = events['event_type'].unique()\n",
    "    colors = plt.cm.tab10(range(len(event_types)))\n",
    "    \n",
    "    for i, event_type in enumerate(event_types):\n",
    "        type_events = events[events['event_type'] == event_type]\n",
    "        event_dates = [pd.to_datetime(date) for date in type_events['event_date']]\n",
    "        \n",
    "        # Get prices at event dates\n",
    "        event_prices = [prices[date] if date in prices.index else None for date in event_dates]\n",
    "        \n",
    "        # Plot events\n",
    "        ax.scatter(\n",
    "            event_dates,\n",
    "            event_prices,\n",
    "            color=colors[i],\n",
    "            label=f\"{event_type} Events\",\n",
    "            alpha=0.7,\n",
    "            s=100,\n",
    "            marker='o' if i % 2 == 0 else 's'\n",
    "        )\n",
    "    \n",
    "    plt.title('Brent Crude Oil Price with Major Events')\n",
    "    plt.xlabel('Year')\n",
    "    plt.ylabel('Price (USD/barrel)')\n",
    "    plt.legend()\n",
    "    plt.grid(True, alpha=0.3)\n",
    "    plt.tight_layout()\n",
    "    plt.show()\n",
    "else:\n",
    "    print(\"Event data not found. Please add event data to the 'data/events/' directory.\")"
   ]
  },
  {
   "cell_type": "markdown",
   "metadata": {},
   "source": [
    "## 5. Save Processed Data"
   ]
  },
  {
   "cell_type": "code",
   "execution_count": null,
   "metadata": {},
   "outputs": [],
   "source": [
    "# Create processed data directory if it doesn't exist\n",
    "processed_dir = os.path.join(data_dir, 'processed')\n",
    "os.makedirs(processed_dir, exist_ok=True)\n",
    "\n",
    "# Save processed data\n",
    "prices.to_csv(os.path.join(processed_dir, 'monthly_prices.csv'))\n",
    "returns.to_csv(os.path.join(processed_dir, 'monthly_returns.csv'))\n",
    "\n",
    "print(f\"Processed data saved to {processed_dir}\")"
   ]
  }
 ],
 "metadata": {
  "kernelspec": {
   "display_name": "Python 3 (ipykernel)",
   "language": "python",
   "name": "python3"
  },
  "language_info": {
   "codemirror_mode": {
    "name": "ipython",
    "version": 3
   },
   "file_extension": ".py",
   "mimetype": "text/x-python",
   "name": "python",
   "nbconvert_exporter": "python",
   "pygments_lexer": "ipython3",
   "version": "3.8.10"
  }
 },
 "nbformat": 4,
 "nbformat_minor": 4
}
